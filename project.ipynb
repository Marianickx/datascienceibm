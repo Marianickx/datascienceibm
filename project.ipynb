{
 "cells": [
  {
   "cell_type": "markdown",
   "id": "f257b5a8-0108-41d8-af4b-02f24eb430f3",
   "metadata": {
    "tags": []
   },
   "source": [
    "# My Jupyter Notebook on IBM Watson Studio\n"
   ]
  },
  {
   "cell_type": "markdown",
   "id": "941c04a3-7978-48af-90ea-880915cb36d3",
   "metadata": {},
   "source": [
    "**Nayara Oliveira**\n",
    "<br> Student"
   ]
  },
  {
   "cell_type": "markdown",
   "id": "5f3f2f0a-348a-4104-9646-68a2903d39da",
   "metadata": {},
   "source": [
    "*I would like to learn data science to re-enter the job market as it is a promising area*\n"
   ]
  },
  {
   "cell_type": "markdown",
   "id": "b9d3f5e7-73a7-4969-ad73-314291bdfde5",
   "metadata": {},
   "source": [
    "### My code will do a mathematical sum\n"
   ]
  },
  {
   "cell_type": "code",
   "execution_count": 1,
   "id": "41ff4573-b48d-4033-b9be-4562c176d930",
   "metadata": {},
   "outputs": [
    {
     "name": "stdout",
     "output_type": "stream",
     "text": [
      "30\n"
     ]
    }
   ],
   "source": [
    "a = 10\n",
    "b = 20\n",
    "c = a + b\n",
    "print(c)"
   ]
  },
  {
   "cell_type": "markdown",
   "id": "4b0d7eaa-a930-4324-a46c-2bc6da017958",
   "metadata": {},
   "source": [
    "___\n",
    "<a href = \"https://dataplatform.cloud.ibm.com/gallery\"> IBM cloud gallery </a>\n",
    "___\n",
    "\n",
    "<ul>\n",
    "  <li>First item</li>\n",
    "  <li>Second item</li>\n",
    "  <li>Third item</li>\n",
    "  <li>Fourth item</li>\n",
    "</ul>"
   ]
  }
 ],
 "metadata": {
  "kernelspec": {
   "display_name": "Python 3 (ipykernel)",
   "language": "python",
   "name": "python3"
  },
  "language_info": {
   "codemirror_mode": {
    "name": "ipython",
    "version": 3
   },
   "file_extension": ".py",
   "mimetype": "text/x-python",
   "name": "python",
   "nbconvert_exporter": "python",
   "pygments_lexer": "ipython3",
   "version": "3.9.12"
  }
 },
 "nbformat": 4,
 "nbformat_minor": 5
}
